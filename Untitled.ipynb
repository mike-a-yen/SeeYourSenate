{
 "cells": [
  {
   "cell_type": "code",
   "execution_count": 1,
   "metadata": {
    "collapsed": true
   },
   "outputs": [],
   "source": [
    "import numpy as np\n",
    "from scipy.stats import binom\n",
    "\n",
    "import matplotlib.pyplot as plt\n",
    "import seaborn as sns\n",
    "%matplotlib inline"
   ]
  },
  {
   "cell_type": "code",
   "execution_count": 2,
   "metadata": {
    "collapsed": true
   },
   "outputs": [],
   "source": [
    "def error_rate(predicted, actuals):\n",
    "    rate = 0\n",
    "    for p,a in zip(predicted,actuals):\n",
    "        if p != a:\n",
    "            rate += 1/len(predicted)\n",
    "    return rate\n",
    "\n",
    "def coin_flip(n,p):\n",
    "    flips = (np.random.uniform(0,1,n)<p).astype(int)\n",
    "    return flips\n",
    "\n",
    "def shows(hidden,show):\n",
    "    idx = np.where(show==1)[0]\n",
    "    return hidden[idx]"
   ]
  },
  {
   "cell_type": "code",
   "execution_count": 2,
   "metadata": {
    "collapsed": true
   },
   "outputs": [],
   "source": [
    "# 100 senators\n",
    "# model has a 7/10 probability of predicting correct outcome\n",
    "# each senator has a 1/2 probability of Yay vote and 1/2 Nay vote\n",
    "# need  either 50 or 60 votes for bill to pass"
   ]
  },
  {
   "cell_type": "code",
   "execution_count": 17,
   "metadata": {
    "collapsed": true
   },
   "outputs": [],
   "source": [
    "def simulate_bill_votes(pcorr=0.5,pyay=0.5,target=50,n_trials=10000,n=100):\n",
    "    predict_pass = np.zeros(n_trials)\n",
    "    actual_pass = np.zeros(n_trials)\n",
    "    for i in range(n_trials):\n",
    "        hidden = coin_flip(n,pyay)\n",
    "        actual_pass[i] = int(np.sum(hidden)> target)\n",
    "    \n",
    "        show = coin_flip(n,pcorr)\n",
    "        view = shows(hidden,show)\n",
    "        n_seen = len(view)\n",
    "        n_hidden = n-len(view)\n",
    "        seeyay = np.count_nonzero(view)\n",
    "    \n",
    "        if seeyay > target:\n",
    "            # if you see more yays than target\n",
    "            predict_pass[i] = 1\n",
    "        elif n_seen-seeyay >= target:\n",
    "            predict_pass[i] = 0\n",
    "        else:\n",
    "            needed_to_pass = target - seeyay + 1\n",
    "            prob_pass = binom.sf(needed_to_pass, n_hidden, pyay)\n",
    "            prob_no_pass = binom.cdf(needed_to_pass, n_hidden, pyay)\n",
    "            predict_pass[i] = int(prob_pass>prob_no_pass)\n",
    "    return np.mean(predict_pass==actual_pass)"
   ]
  },
  {
   "cell_type": "code",
   "execution_count": 24,
   "metadata": {
    "collapsed": false
   },
   "outputs": [],
   "source": [
    "pyay = 1/2\n",
    "target = 50\n",
    "n = 100\n",
    "prange = np.linspace(0,1,21)\n",
    "correct50 = [simulate_bill_votes(pcorr,pyay,\n",
    "                               target=target,\n",
    "                               n_trials=1000,\n",
    "                               n=n) for pcorr in prange]"
   ]
  },
  {
   "cell_type": "code",
   "execution_count": 25,
   "metadata": {
    "collapsed": true
   },
   "outputs": [],
   "source": [
    "pyay = 1/2\n",
    "target = 60\n",
    "n = 100\n",
    "prange = np.linspace(0,1,21)\n",
    "correct60 = [simulate_bill_votes(pcorr,pyay,\n",
    "                               target=target,\n",
    "                               n_trials=1000,\n",
    "                               n=n) for pcorr in prange]\n",
    "\n",
    "pyay = 1/2\n",
    "target = 66\n",
    "n = 100\n",
    "prange = np.linspace(0,1,21)\n",
    "correct66 = [simulate_bill_votes(pcorr,pyay,\n",
    "                                 target=target,\n",
    "                                 n_trials=1000,\n",
    "                                 n=n) for pcorr in prange]"
   ]
  },
  {
   "cell_type": "code",
   "execution_count": 44,
   "metadata": {
    "collapsed": false
   },
   "outputs": [
    {
     "data": {
      "image/png": "[encoded data removed]",
      "text/plain": [
       "<matplotlib.figure.Figure at 0x11801d710>"
      ]
     },
     "metadata": {},
     "output_type": "display_data"
    }
   ],
   "source": [
    "plt.plot(prange,correct50, label=r'1/2 Majority')\n",
    "plt.legend()\n",
    "plt.xlabel('Individual Model Accuracy')\n",
    "plt.ylabel('Entire Congress Accuracy')\n",
    "plt.xticks(prange[::2])\n",
    "plt.yticks(np.linspace(0.5,1,6))\n",
    "plt.savefig('model_performance.png')\n",
    "plt.show()"
   ]
  },
  {
   "cell_type": "code",
   "execution_count": 39,
   "metadata": {
    "collapsed": false
   },
   "outputs": [
    {
     "data": {
      "text/plain": [
       "0.69135029320537367"
      ]
     },
     "execution_count": 39,
     "metadata": {},
     "output_type": "execute_result"
    }
   ],
   "source": [
    "binom.cdf(52, 100, 0.5)"
   ]
  },
  {
   "cell_type": "code",
   "execution_count": 128,
   "metadata": {
    "collapsed": false
   },
   "outputs": [
    {
     "name": "stdout",
     "output_type": "stream",
     "text": [
      "0.5372\n"
     ]
    }
   ],
   "source": [
    "N = 10000\n",
    "actual_pass = np.zeros(N)\n",
    "for i in np.arange(N):\n",
    "    hidden = coin_flip(n,pyay)\n",
    "    actual_pass[i] = int(np.mean(hidden)>= target/n)\n",
    "    \n",
    "print(np.mean(actual_pass))\n"
   ]
  },
  {
   "cell_type": "code",
   "execution_count": 114,
   "metadata": {
    "collapsed": false
   },
   "outputs": [
    {
     "name": "stdout",
     "output_type": "stream",
     "text": [
      "0.5\n",
      "0.5\n"
     ]
    }
   ],
   "source": [
    "print(binom.sf(50, 100+1, pyay))\n",
    "print(binom.cdf(50, 100+1, pyay))"
   ]
  },
  {
   "cell_type": "code",
   "execution_count": 127,
   "metadata": {
    "collapsed": false
   },
   "outputs": [
    {
     "data": {
      "text/plain": [
       "array([1, 1, 1, 1, 1, 1, 1, 1, 1, 1])"
      ]
     },
     "execution_count": 127,
     "metadata": {},
     "output_type": "execute_result"
    }
   ],
   "source": [
    "coin_flip(10,1)"
   ]
  },
  {
   "cell_type": "code",
   "execution_count": null,
   "metadata": {
    "collapsed": true
   },
   "outputs": [],
   "source": []
  }
 ],
 "metadata": {
  "anaconda-cloud": {},
  "kernelspec": {
   "display_name": "Python [python35]",
   "language": "python",
   "name": "Python [python35]"
  },
  "language_info": {
   "codemirror_mode": {
    "name": "ipython",
    "version": 3
   },
   "file_extension": ".py",
   "mimetype": "text/x-python",
   "name": "python",
   "nbconvert_exporter": "python",
   "pygments_lexer": "ipython3",
   "version": "3.5.2"
  }
 },
 "nbformat": 4,
 "nbformat_minor": 0
}
