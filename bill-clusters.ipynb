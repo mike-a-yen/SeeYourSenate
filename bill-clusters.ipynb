{
 "cells": [
  {
   "cell_type": "code",
   "execution_count": 86,
   "metadata": {
    "collapsed": false
   },
   "outputs": [],
   "source": [
    "from app import db\n",
    "from app.models import *\n",
    "from app.build_models import get_decision_text, get_vote_history, vote_map\n",
    "\n",
    "import pandas as pd\n",
    "import numpy as np\n",
    "import re\n",
    "import json\n",
    "from scipy.sparse import csr_matrix\n",
    "import pickle\n",
    "\n",
    "from sklearn.decomposition import TruncatedSVD, PCA\n",
    "from sklearn.cluster import KMeans\n",
    "from sklearn.feature_extraction.text import TfidfVectorizer\n",
    "from sklearn.pipeline import make_pipeline\n",
    "from sklearn.preprocessing import Normalizer\n",
    "from sklearn import metrics\n",
    "\n",
    "from datetime import datetime\n",
    "import nltk\n",
    "from nltk.stem.snowball import SnowballStemmer\n",
    "from textblob import TextBlob\n",
    "stemmer = SnowballStemmer('english')\n",
    "stopwords = nltk.corpus.stopwords\n",
    "\n",
    "import matplotlib.pyplot as plt\n",
    "from mpl_toolkits.mplot3d import Axes3D\n",
    "import seaborn as sns\n",
    "import mpld3\n",
    "sns.set_palette('viridis')\n",
    "%matplotlib notebook"
   ]
  },
  {
   "cell_type": "code",
   "execution_count": 75,
   "metadata": {
    "collapsed": true
   },
   "outputs": [],
   "source": [
    "members = db.session.query(Member).all()"
   ]
  },
  {
   "cell_type": "code",
   "execution_count": 78,
   "metadata": {
    "collapsed": false
   },
   "outputs": [
    {
     "data": {
      "text/plain": [
       "'Martinez (R-FL)'"
      ]
     },
     "execution_count": 78,
     "metadata": {},
     "output_type": "execute_result"
    }
   ],
   "source": [
    "mem = members[123]\n",
    "memid = mem.id\n",
    "mem.display_name"
   ]
  },
  {
   "cell_type": "code",
   "execution_count": 80,
   "metadata": {
    "collapsed": false
   },
   "outputs": [],
   "source": [
    "vectorizer = pickle.load(open(mem.vectorizer_path,'rb'))\n",
    "nn_model = pickle.load(open(mem.nn_model_path,'rb'))"
   ]
  },
  {
   "cell_type": "code",
   "execution_count": 88,
   "metadata": {
    "collapsed": false
   },
   "outputs": [],
   "source": [
    "text = get_decision_text(memid)\n",
    "df = pd.DataFrame(text,columns=['title','question','subject'])\n",
    "df['vote'] = get_vote_history(memid)\n",
    "df['body'] = df['title'].str.cat(df['question'],sep=' ').str.cat(df['subject'],sep=' ')\n",
    "df['body'] = df['body'].apply(lambda x: re.sub(\"\\d+\", \"\", x))\n",
    "df['result'] = df['vote'].apply(vote_map)"
   ]
  },
  {
   "cell_type": "code",
   "execution_count": 103,
   "metadata": {
    "collapsed": false
   },
   "outputs": [
    {
     "name": "stderr",
     "output_type": "stream",
     "text": [
      "/Users/mayen/anaconda/envs/python35/lib/python3.5/site-packages/ipykernel/__main__.py:5: SettingWithCopyWarning: \n",
      "A value is trying to be set on a copy of a slice from a DataFrame.\n",
      "Try using .loc[row_indexer,col_indexer] = value instead\n",
      "\n",
      "See the caveats in the documentation: http://pandas.pydata.org/pandas-docs/stable/indexing.html#indexing-view-versus-copy\n"
     ]
    }
   ],
   "source": [
    "yay = df[df['result']==1]\n",
    "yay_matrix = vectorizer.fit_transform(yay['body'])\n",
    "kmeans = KMeans(8)\n",
    "kmeans.fit_transform(yay_matrix)\n",
    "yay['cluster'] = kmeans.labels_.tolist()"
   ]
  },
  {
   "cell_type": "code",
   "execution_count": 104,
   "metadata": {
    "collapsed": false
   },
   "outputs": [
    {
     "data": {
      "text/plain": [
       "0    355\n",
       "3    231\n",
       "2    123\n",
       "7     68\n",
       "6     61\n",
       "4     43\n",
       "1     32\n",
       "5     20\n",
       "Name: cluster, dtype: int64"
      ]
     },
     "execution_count": 104,
     "metadata": {},
     "output_type": "execute_result"
    }
   ],
   "source": [
    "yay['cluster'].value_counts()"
   ]
  },
  {
   "cell_type": "code",
   "execution_count": 108,
   "metadata": {
    "collapsed": false
   },
   "outputs": [
    {
     "name": "stdout",
     "output_type": "stream",
     "text": [
      "Top terms per cluster:\n",
      "\n",
      "Cluster 0 words: ['motion']\n",
      " ['cloture']\n",
      " ['cloture', 'motion']\n",
      " ['united']\n",
      " ['states']\n",
      " ['united', 'states']\n",
      "\n",
      "\n",
      "Cluster 1 words: ['comprehensive', 'immigration']\n",
      " ['immigration']\n",
      " ['comprehensive', 'immigration', 'reform']\n",
      " ['immigration', 'reform']\n",
      " ['comprehensive']\n",
      " ['immigration', 'reform', 'act']\n",
      "\n",
      "\n",
      "Cluster 2 words: ['title', 'file']\n",
      " ['short', 'title', 'file']\n",
      " ['short']\n",
      " ['short', 'title']\n",
      " ['file']\n",
      " ['title']\n",
      "\n",
      "\n",
      "Cluster 3 words: ['amdt']\n",
      " ['act']\n",
      " ['appropriations', 'act']\n",
      " ['appropriations']\n",
      " ['act', 'amendment', 'amdt']\n",
      " ['act', 'amendment']\n",
      "\n",
      "\n",
      "Cluster 4 words: ['defense', 'authorization', 'act']\n",
      " ['national', 'defense']\n",
      " ['national', 'defense', 'authorization']\n",
      " ['defense', 'authorization']\n",
      " ['act', 'fiscal', 'year']\n",
      " ['act', 'fiscal']\n",
      "\n",
      "\n",
      "Cluster 5 words: ['small', 'business', 'tax']\n",
      " ['business', 'tax', 'relief']\n",
      " ['business', 'tax']\n",
      " ['small', 'business']\n",
      " ['small']\n",
      " ['tax', 'relief', 'act']\n",
      "\n",
      "\n",
      "Cluster 6 words: ['motion', 'waive']\n",
      " ['waive']\n",
      " ['motion']\n",
      " ['waive', 'cba']\n",
      " ['cba']\n",
      " ['motion', 'waive', 'cba']\n",
      "\n",
      "\n",
      "Cluster 7 words: ['ending', 'september', 'purposes']\n",
      " ['fiscal', 'year', 'ending']\n",
      " ['september']\n",
      " ['september', 'purposes']\n",
      " ['ending']\n",
      " ['ending', 'september']\n",
      "\n",
      "\n",
      "\n",
      "\n"
     ]
    }
   ],
   "source": [
    "print(\"Top terms per cluster:\")\n",
    "print()\n",
    "#sort cluster centers by proximity to centroid\n",
    "terms = vectorizer.get_feature_names()\n",
    "num_clusters = len(yay['cluster'].unique())\n",
    "order_centroids = kmeans.cluster_centers_.argsort()[:, ::-1] \n",
    "\n",
    "for i in range(num_clusters):\n",
    "    print(\"Cluster %d words:\" % i, end='')\n",
    "    \n",
    "    for ind in order_centroids[i, :6]: #replace 6 with n words per cluster\n",
    "        print(' %s' % terms[ind].split(' '))\n",
    "    print() \n",
    "    print() \n",
    "    \n",
    "print()\n",
    "print()"
   ]
  },
  {
   "cell_type": "code",
   "execution_count": 106,
   "metadata": {
    "collapsed": false
   },
   "outputs": [
    {
     "data": {
      "text/plain": [
       "array([[4965, 1629, 1669, ..., 5114, 5113, 7715],\n",
       "       [1881, 3855, 1882, ..., 5530, 5531,    0],\n",
       "       [7660, 7093, 7091, ..., 5500, 5501,    0],\n",
       "       ..., \n",
       "       [7106, 1332, 1331, ..., 5546, 5547,    0],\n",
       "       [5111, 8034, 4965, ..., 5432, 5433,    0],\n",
       "       [2789, 3252, 7019, ..., 5492, 5493,    0]])"
      ]
     },
     "execution_count": 106,
     "metadata": {},
     "output_type": "execute_result"
    }
   ],
   "source": [
    "order_centroids"
   ]
  },
  {
   "cell_type": "code",
   "execution_count": null,
   "metadata": {
    "collapsed": true
   },
   "outputs": [],
   "source": []
  }
 ],
 "metadata": {
  "kernelspec": {
   "display_name": "Python [python35]",
   "language": "python",
   "name": "Python [python35]"
  },
  "language_info": {
   "codemirror_mode": {
    "name": "ipython",
    "version": 3
   },
   "file_extension": ".py",
   "mimetype": "text/x-python",
   "name": "python",
   "nbconvert_exporter": "python",
   "pygments_lexer": "ipython3",
   "version": "3.5.2"
  }
 },
 "nbformat": 4,
 "nbformat_minor": 0
}
