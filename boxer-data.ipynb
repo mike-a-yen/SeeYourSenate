{
 "cells": [
  {
   "cell_type": "code",
   "execution_count": 75,
   "metadata": {
    "collapsed": true
   },
   "outputs": [],
   "source": [
    "import json\n",
    "import pandas as pd\n",
    "import glob"
   ]
  },
  {
   "cell_type": "code",
   "execution_count": 76,
   "metadata": {
    "collapsed": true
   },
   "outputs": [],
   "source": [
    "def get_summary(data):\n",
    "    category = data['category']\n",
    "    if category == 'passage':\n",
    "        return data['bill']\n",
    "    else:\n",
    "        return data[category]"
   ]
  },
  {
   "cell_type": "code",
   "execution_count": 90,
   "metadata": {
    "collapsed": false
   },
   "outputs": [],
   "source": [
    "data_files = glob.glob('data/20*.json')"
   ]
  },
  {
   "cell_type": "code",
   "execution_count": 86,
   "metadata": {
    "collapsed": false
   },
   "outputs": [],
   "source": [
    "bill_df = pd.DataFrame(columns=['chamber',\n",
    "                                'congress',\n",
    "                                'number',\n",
    "                                'date',\n",
    "                                'year',\n",
    "                                'category',\n",
    "                                'requires',\n",
    "                                'vote_id',\n",
    "                                'question',\n",
    "                                'bill',\n",
    "                                'amendment'])"
   ]
  },
  {
   "cell_type": "code",
   "execution_count": 79,
   "metadata": {
    "collapsed": false
   },
   "outputs": [],
   "source": [
    "for i,data_file in enumerate(data_files):\n",
    "    fo = open(data_file,'r')\n",
    "    try:\n",
    "        data = json.loads(fo.read())\n",
    "    except:\n",
    "        fo.close()\n",
    "        continue\n",
    "    fo.close()\n",
    "    \n",
    "    chamber = data['chamber']\n",
    "    congress = data['congress']\n",
    "    number = data['number']\n",
    "    date = data['date']\n",
    "    year = data['session']\n",
    "    category = data['category']\n",
    "    requires = data['requires']\n",
    "    vote_id = data['vote_id']\n",
    "    question = data['question']\n",
    "    bill = json.dumps(data.get('bill'))\n",
    "    amendment = json.dumps(data.get('amendment'))\n",
    "    #summary = get_summary(data)\n",
    "    \n",
    "    datain = [chamber, congress, number, \n",
    "              date, year, category,\n",
    "              requires, vote_id, question, \n",
    "              bill, amendment]\n",
    "              #summary]\n",
    "    bill_df.loc[i] = datain"
   ]
  },
  {
   "cell_type": "code",
   "execution_count": 80,
   "metadata": {
    "collapsed": false
   },
   "outputs": [
    {
     "data": {
      "text/html": [
       "<div>\n",
       "<table border=\"1\" class=\"dataframe\">\n",
       "  <thead>\n",
       "    <tr style=\"text-align: right;\">\n",
       "      <th></th>\n",
       "      <th>chamber</th>\n",
       "      <th>congress</th>\n",
       "      <th>number</th>\n",
       "      <th>date</th>\n",
       "      <th>year</th>\n",
       "      <th>category</th>\n",
       "      <th>requires</th>\n",
       "      <th>vote_id</th>\n",
       "      <th>question</th>\n",
       "      <th>bill</th>\n",
       "      <th>amendment</th>\n",
       "    </tr>\n",
       "  </thead>\n",
       "  <tbody>\n",
       "    <tr>\n",
       "      <th>0</th>\n",
       "      <td>s</td>\n",
       "      <td>114.0</td>\n",
       "      <td>1.0</td>\n",
       "      <td>2015-01-08T13:46:00-05:00</td>\n",
       "      <td>2015</td>\n",
       "      <td>amendment</td>\n",
       "      <td>3/5</td>\n",
       "      <td>s1-114.2015</td>\n",
       "      <td>On the Amendment S.Amdt. 1 to H.R. 26 (Terrori...</td>\n",
       "      <td>{\"title\": \"Terrorism Risk Insurance Program Re...</td>\n",
       "      <td>{\"type\": \"s\", \"number\": 1, \"purpose\": \"In the ...</td>\n",
       "    </tr>\n",
       "    <tr>\n",
       "      <th>1</th>\n",
       "      <td>s</td>\n",
       "      <td>114.0</td>\n",
       "      <td>10.0</td>\n",
       "      <td>2015-01-21T16:23:00-05:00</td>\n",
       "      <td>2015</td>\n",
       "      <td>amendment</td>\n",
       "      <td>3/5</td>\n",
       "      <td>s10-114.2015</td>\n",
       "      <td>On the Amendment S.Amdt. 29 to S.Amdt. 2 to S....</td>\n",
       "      <td>{\"title\": \"Keystone XL Pipeline Act\", \"type\": ...</td>\n",
       "      <td>{\"type\": \"s\", \"number\": 29, \"purpose\": \"To exp...</td>\n",
       "    </tr>\n",
       "    <tr>\n",
       "      <th>2</th>\n",
       "      <td>s</td>\n",
       "      <td>114.0</td>\n",
       "      <td>100.0</td>\n",
       "      <td>2015-03-26T14:24:00-04:00</td>\n",
       "      <td>2015</td>\n",
       "      <td>amendment</td>\n",
       "      <td>1/2</td>\n",
       "      <td>s100-114.2015</td>\n",
       "      <td>On the Amendment S.Amdt. 432 to S.Con.Res. 11 ...</td>\n",
       "      <td>{\"title\": \"No short title on file\", \"type\": \"s...</td>\n",
       "      <td>{\"type\": \"s\", \"number\": 432, \"purpose\": \"To pr...</td>\n",
       "    </tr>\n",
       "    <tr>\n",
       "      <th>3</th>\n",
       "      <td>s</td>\n",
       "      <td>114.0</td>\n",
       "      <td>101.0</td>\n",
       "      <td>2015-03-26T14:45:00-04:00</td>\n",
       "      <td>2015</td>\n",
       "      <td>amendment</td>\n",
       "      <td>1/2</td>\n",
       "      <td>s101-114.2015</td>\n",
       "      <td>On the Amendment S.Amdt. 828 to S.Con.Res. 11 ...</td>\n",
       "      <td>{\"title\": \"No short title on file\", \"type\": \"s...</td>\n",
       "      <td>{\"type\": \"s\", \"number\": 828, \"purpose\": \"To pr...</td>\n",
       "    </tr>\n",
       "    <tr>\n",
       "      <th>4</th>\n",
       "      <td>s</td>\n",
       "      <td>114.0</td>\n",
       "      <td>102.0</td>\n",
       "      <td>2015-03-26T15:06:00-04:00</td>\n",
       "      <td>2015</td>\n",
       "      <td>amendment</td>\n",
       "      <td>1/2</td>\n",
       "      <td>s102-114.2015</td>\n",
       "      <td>On the Amendment S.Amdt. 692 to S.Con.Res. 11 ...</td>\n",
       "      <td>{\"title\": \"No short title on file\", \"type\": \"s...</td>\n",
       "      <td>{\"type\": \"s\", \"number\": 692, \"purpose\": \"To es...</td>\n",
       "    </tr>\n",
       "  </tbody>\n",
       "</table>\n",
       "</div>"
      ],
      "text/plain": [
       "  chamber  congress  number                       date  year   category  \\\n",
       "0       s     114.0     1.0  2015-01-08T13:46:00-05:00  2015  amendment   \n",
       "1       s     114.0    10.0  2015-01-21T16:23:00-05:00  2015  amendment   \n",
       "2       s     114.0   100.0  2015-03-26T14:24:00-04:00  2015  amendment   \n",
       "3       s     114.0   101.0  2015-03-26T14:45:00-04:00  2015  amendment   \n",
       "4       s     114.0   102.0  2015-03-26T15:06:00-04:00  2015  amendment   \n",
       "\n",
       "  requires        vote_id                                           question  \\\n",
       "0      3/5    s1-114.2015  On the Amendment S.Amdt. 1 to H.R. 26 (Terrori...   \n",
       "1      3/5   s10-114.2015  On the Amendment S.Amdt. 29 to S.Amdt. 2 to S....   \n",
       "2      1/2  s100-114.2015  On the Amendment S.Amdt. 432 to S.Con.Res. 11 ...   \n",
       "3      1/2  s101-114.2015  On the Amendment S.Amdt. 828 to S.Con.Res. 11 ...   \n",
       "4      1/2  s102-114.2015  On the Amendment S.Amdt. 692 to S.Con.Res. 11 ...   \n",
       "\n",
       "                                                bill  \\\n",
       "0  {\"title\": \"Terrorism Risk Insurance Program Re...   \n",
       "1  {\"title\": \"Keystone XL Pipeline Act\", \"type\": ...   \n",
       "2  {\"title\": \"No short title on file\", \"type\": \"s...   \n",
       "3  {\"title\": \"No short title on file\", \"type\": \"s...   \n",
       "4  {\"title\": \"No short title on file\", \"type\": \"s...   \n",
       "\n",
       "                                           amendment  \n",
       "0  {\"type\": \"s\", \"number\": 1, \"purpose\": \"In the ...  \n",
       "1  {\"type\": \"s\", \"number\": 29, \"purpose\": \"To exp...  \n",
       "2  {\"type\": \"s\", \"number\": 432, \"purpose\": \"To pr...  \n",
       "3  {\"type\": \"s\", \"number\": 828, \"purpose\": \"To pr...  \n",
       "4  {\"type\": \"s\", \"number\": 692, \"purpose\": \"To es...  "
      ]
     },
     "execution_count": 80,
     "metadata": {},
     "output_type": "execute_result"
    }
   ],
   "source": [
    "bill_df.head()"
   ]
  },
  {
   "cell_type": "code",
   "execution_count": 91,
   "metadata": {
    "collapsed": false
   },
   "outputs": [],
   "source": [
    "vote_df = pd.DataFrame(columns=['member_id',\n",
    "                                'chamber',\n",
    "                                'congress',\n",
    "                                'number',\n",
    "                                'date',\n",
    "                                'year',\n",
    "                                'category',\n",
    "                                'requires',\n",
    "                                'vote_id',\n",
    "                                'question',\n",
    "                                'bill',\n",
    "                                'amendment',\n",
    "                                'vote'])"
   ]
  },
  {
   "cell_type": "code",
   "execution_count": 94,
   "metadata": {
    "collapsed": false
   },
   "outputs": [],
   "source": [
    "# look for Barbara Boxer's voter record\n",
    "# id = \"S223\"\n",
    "sid = 'S223'\n",
    "for i,data_file in enumerate(data_files):\n",
    "    fo = open(data_file,'r')\n",
    "    try:\n",
    "        data = json.loads(fo.read())\n",
    "    except:\n",
    "        fo.close()\n",
    "        continue\n",
    "    fo.close()\n",
    "    \n",
    "    chamber = data['chamber']\n",
    "    congress = data['congress']\n",
    "    number = data['number']\n",
    "    date = data['date']\n",
    "    year = data['session']\n",
    "    category = data['category']\n",
    "    requires = data['requires']\n",
    "    vote_id = data['vote_id']\n",
    "    question = data['question']\n",
    "    bill = json.dumps(data.get('bill'))\n",
    "    amendment = json.dumps(data.get('amendment'))\n",
    "    votes = data['votes']\n",
    "    vote = None\n",
    "    \n",
    "    for key, members in votes.items():\n",
    "        for member in members:\n",
    "            if member == 'VP': continue\n",
    "            if sid != member['id']: continue\n",
    "            vote = int('Y' in key)\n",
    "    \n",
    "    datain = [sid, chamber, congress, number, \n",
    "              date, year, category,\n",
    "              requires, vote_id, question, \n",
    "              bill, amendment, vote]\n",
    "              #summary]\n",
    "    vote_df.loc[i] = datain"
   ]
  },
  {
   "cell_type": "code",
   "execution_count": 95,
   "metadata": {
    "collapsed": false
   },
   "outputs": [],
   "source": [
    "vote_df.to_csv('data/boxer.csv',index=False)"
   ]
  },
  {
   "cell_type": "code",
   "execution_count": 96,
   "metadata": {
    "collapsed": false
   },
   "outputs": [
    {
     "data": {
      "text/plain": [
       "5236"
      ]
     },
     "execution_count": 96,
     "metadata": {},
     "output_type": "execute_result"
    }
   ],
   "source": [
    "len(vote_df)"
   ]
  },
  {
   "cell_type": "code",
   "execution_count": null,
   "metadata": {
    "collapsed": true
   },
   "outputs": [],
   "source": []
  }
 ],
 "metadata": {
  "anaconda-cloud": {},
  "kernelspec": {
   "display_name": "Python [python35]",
   "language": "python",
   "name": "Python [python35]"
  },
  "language_info": {
   "codemirror_mode": {
    "name": "ipython",
    "version": 3
   },
   "file_extension": ".py",
   "mimetype": "text/x-python",
   "name": "python",
   "nbconvert_exporter": "python",
   "pygments_lexer": "ipython3",
   "version": "3.5.2"
  }
 },
 "nbformat": 4,
 "nbformat_minor": 0
}
